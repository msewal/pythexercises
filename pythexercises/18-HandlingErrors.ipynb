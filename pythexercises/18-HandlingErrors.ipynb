{
 "cells": [
  {
   "cell_type": "code",
   "execution_count": null,
   "metadata": {},
   "outputs": [],
   "source": [
    "age = input(\"enter age: \")"
   ]
  },
  {
   "cell_type": "code",
   "execution_count": null,
   "metadata": {},
   "outputs": [],
   "source": [
    "age"
   ]
  },
  {
   "cell_type": "code",
   "execution_count": 5,
   "metadata": {},
   "outputs": [],
   "source": [
    "int(age) * 2   # When the input is string, it will throw an error"
   ]
  },
  {
   "cell_type": "markdown",
   "metadata": {},
   "source": [
    "# try-except block"
   ]
  },
  {
   "cell_type": "code",
   "execution_count": null,
   "metadata": {},
   "outputs": [],
   "source": [
    "try:\n",
    "    myAge = int(input(\"enter age:\"))\n",
    "    print(myAge*2)\n",
    "except:\n",
    "    print(\"Enter your age!!!\")"
   ]
  },
  {
   "cell_type": "code",
   "execution_count": null,
   "metadata": {},
   "outputs": [],
   "source": [
    "try:\n",
    "    myAge = int(input(\"enter age:\"))\n",
    "    print(myAge*2)\n",
    "except ValueError:\n",
    "    print(\"You did not enter a valid number\")"
   ]
  },
  {
   "cell_type": "code",
   "execution_count": null,
   "metadata": {},
   "outputs": [],
   "source": [
    "while 1==1:  # or while True:\n",
    "    try:\n",
    "        myAge = int(input(\"enter age:\"))\n",
    "        print(myAge*2)\n",
    "    except:\n",
    "        print(\"You did not enter a valid number\")"
   ]
  },
  {
   "cell_type": "code",
   "execution_count": null,
   "metadata": {},
   "outputs": [],
   "source": [
    "while True:\n",
    "    try:\n",
    "        myAge = int(input(\"enter age:\"))\n",
    "        print(myAge*2)\n",
    "        break\n",
    "    except:\n",
    "        print(\"You did not enter a valid number\")"
   ]
  },
  {
   "cell_type": "code",
   "execution_count": null,
   "metadata": {},
   "outputs": [],
   "source": [
    "while True:\n",
    "    try:\n",
    "        myAge = int(input(\"enter age:\"))\n",
    "        print(myAge*2)\n",
    "        break\n",
    "    except:\n",
    "        print(\"You did not enter a valid number\")\n",
    "\n",
    "    finally:\n",
    "        print(\"Finally block is always executed\")\n",
    "        "
   ]
  }
 ],
 "metadata": {
  "kernelspec": {
   "display_name": "Python 3",
   "language": "python",
   "name": "python3"
  },
  "language_info": {
   "codemirror_mode": {
    "name": "ipython",
    "version": 3
   },
   "file_extension": ".py",
   "mimetype": "text/x-python",
   "name": "python",
   "nbconvert_exporter": "python",
   "pygments_lexer": "ipython3",
   "version": "3.12.3"
  }
 },
 "nbformat": 4,
 "nbformat_minor": 2
}
